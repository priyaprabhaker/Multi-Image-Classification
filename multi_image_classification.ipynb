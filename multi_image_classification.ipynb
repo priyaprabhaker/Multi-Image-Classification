{
 "cells": [
  {
   "cell_type": "code",
   "execution_count": 1,
   "metadata": {},
   "outputs": [
    {
     "name": "stderr",
     "output_type": "stream",
     "text": [
      "2023-06-07 21:41:09.395692: I tensorflow/tsl/cuda/cudart_stub.cc:28] Could not find cuda drivers on your machine, GPU will not be used.\n",
      "2023-06-07 21:41:09.436832: I tensorflow/tsl/cuda/cudart_stub.cc:28] Could not find cuda drivers on your machine, GPU will not be used.\n",
      "2023-06-07 21:41:09.437643: I tensorflow/core/platform/cpu_feature_guard.cc:182] This TensorFlow binary is optimized to use available CPU instructions in performance-critical operations.\n",
      "To enable the following instructions: AVX2 FMA, in other operations, rebuild TensorFlow with the appropriate compiler flags.\n",
      "2023-06-07 21:41:10.062750: W tensorflow/compiler/tf2tensorrt/utils/py_utils.cc:38] TF-TRT Warning: Could not find TensorRT\n"
     ]
    }
   ],
   "source": [
    "%matplotlib inline\n",
    "import matplotlib.pyplot as plt\n",
    "import tensorflow as tf\n",
    "from tensorflow import keras\n",
    "from keras import backend as K\n",
    "from tensorflow.keras.utils import load_img\n",
    "from tensorflow.keras.preprocessing.image import load_img,ImageDataGenerator\n",
    "from tensorflow.keras.applications.vgg16 import preprocess_input\n",
    "import pandas as pd\n",
    "import numpy as np\n",
    "from skimage import exposure, color\n",
    "import os\n",
    "from skimage.io import imread"
   ]
  },
  {
   "cell_type": "code",
   "execution_count": 2,
   "metadata": {},
   "outputs": [],
   "source": [
    "# Let's explore the data folder\n",
    "base_path = './data/'\n",
    "\n",
    "# Let's define the classes\n",
    "classes = os.listdir(base_path)"
   ]
  },
  {
   "cell_type": "code",
   "execution_count": 3,
   "metadata": {},
   "outputs": [
    {
     "data": {
      "text/plain": [
       "['bottle', 'Empty', 'Glass']"
      ]
     },
     "execution_count": 3,
     "metadata": {},
     "output_type": "execute_result"
    }
   ],
   "source": [
    "classes"
   ]
  },
  {
   "cell_type": "code",
   "execution_count": 4,
   "metadata": {},
   "outputs": [],
   "source": [
    "#Function to do data augmentation\n",
    "def contrast_stretching(img):\n",
    "    p2, p98 = np.percentile(img, (3, 90))\n",
    "    img_rescale = exposure.rescale_intensity(img, in_range=(p2, p98))\n",
    "    return img_rescale\n",
    "\n",
    "\n",
    "#balanced the data imbalance by data augmentation\n",
    "def load_image(base_path):\n",
    "    \"\"\"it loads all the image into X and the classes in y \"\"\"\n",
    "    X_list = []\n",
    "    y_list = []\n",
    "    classes = os.listdir(base_path)\n",
    "    for class_ in classes:\n",
    "        if not class_.endswith('.DS_Store'):\n",
    "            files = os.listdir(base_path+class_)\n",
    "            #print(files)\n",
    "            for file in files:\n",
    "                if not file.endswith('.DS_Store'):\n",
    "                    #print(file)\n",
    "                    pic = load_img(path=base_path+class_+'/'+f'{file}',target_size=(224,224))\n",
    "                    numpy_image = np.array(pic)\n",
    "                    Imagedatagen_input=np.expand_dims(numpy_image.astype(\"float32\")/255,axis=0)\n",
    "                    processed_image = preprocess_input(numpy_image)\n",
    "                    X_list.append(processed_image)\n",
    "                    y_list.append(class_)\n",
    "                    \n",
    "                        contrasting_image=ImageDataGenerator(zca_whitening=False,rotation_range=30,\n",
    "                                                    width_shift_range=0,\n",
    "                                                    height_shift_range=0.5,\n",
    "                                                    shear_range=0,\n",
    "                                                    zoom_range=0,\n",
    "                                                    fill_mode='nearest',\n",
    "                                                    horizontal_flip=False,\n",
    "                                                    vertical_flip=False,\n",
    "                                                    preprocessing_function=contrast_stretching,\n",
    "                                                    data_format=K.image_data_format())\n",
    "                        \n",
    "                        i=0\n",
    "                        for img_batch in contrasting_image.flow(Imagedatagen_input,batch_size=6, shuffle=False):\n",
    "                            \n",
    "                            for img in img_batch:\n",
    "                                X_list.append(img)\n",
    "                                y_list.append(class_)\n",
    "                                i+=1\n",
    "                            if i >= 6:\n",
    "                                break\n",
    "                    if class_=='bottle':\n",
    "                        contrasting_image=ImageDataGenerator(zca_whitening=False,rotation_range=30,\n",
    "                                                    width_shift_range=0,\n",
    "                                                    height_shift_range=0.5,\n",
    "                                                    shear_range=0,\n",
    "                                                    zoom_range=0,\n",
    "                                                    fill_mode='nearest',\n",
    "                                                    horizontal_flip=False,\n",
    "                                                    vertical_flip=False,\n",
    "                                                    preprocessing_function=contrast_stretching,\n",
    "                                                    data_format=K.image_data_format())\n",
    "                        \n",
    "                        i=0\n",
    "                        for img_batch in contrasting_image.flow(Imagedatagen_input,batch_size=2, shuffle=False):\n",
    "                            \n",
    "                            for img in img_batch:\n",
    "                                X_list.append(img)\n",
    "                                y_list.append(class_)\n",
    "                                i+=1\n",
    "                            if i >= 2:\n",
    "                                break  \n",
    "                    if class_=='Glass':\n",
    "                        contrasting_image=ImageDataGenerator(zca_whitening=False,rotation_range=30,\n",
    "                                                    width_shift_range=0,\n",
    "                                                    height_shift_range=0.5,\n",
    "                                                    shear_range=0,\n",
    "                                                    zoom_range=0,\n",
    "                                                    fill_mode='nearest',\n",
    "                                                    horizontal_flip=False,\n",
    "                                                    vertical_flip=False,\n",
    "                                                    preprocessing_function=contrast_stretching,\n",
    "                                                    data_format=K.image_data_format())\n",
    "                        \n",
    "                        i=0\n",
    "                        for img_batch in contrasting_image.flow(Imagedatagen_input,batch_size=3, shuffle=False):\n",
    "                           \n",
    "                            for img in img_batch:\n",
    "                                X_list.append(img)\n",
    "                                y_list.append(class_)\n",
    "                                i+=1\n",
    "                            if i >= 3:\n",
    "                                break                  \n",
    "                    \n",
    "    \n",
    "    return X_list, y_list, classes"
   ]
  },
  {
   "cell_type": "code",
   "execution_count": null,
   "metadata": {},
   "outputs": [],
   "source": [
    "X_list, y_list, classes=load_image(base_path)"
   ]
  },
  {
   "cell_type": "code",
   "execution_count": 6,
   "metadata": {},
   "outputs": [],
   "source": [
    "X = np.array(X_list)\n",
    "y = np.array(y_list)\n"
   ]
  },
  {
   "cell_type": "code",
   "execution_count": 7,
   "metadata": {},
   "outputs": [],
   "source": [
    "shuffler = np.random.permutation(len(X))\n",
    "X = X[shuffler]\n",
    "y = y[shuffler]"
   ]
  },
  {
   "cell_type": "code",
   "execution_count": 8,
   "metadata": {},
   "outputs": [
    {
     "data": {
      "text/plain": [
       "((5403, 224, 224, 3), 5403, 3)"
      ]
     },
     "execution_count": 8,
     "metadata": {},
     "output_type": "execute_result"
    }
   ],
   "source": [
    "X.shape,len(y),len(classes)"
   ]
  },
  {
   "cell_type": "code",
   "execution_count": 9,
   "metadata": {},
   "outputs": [],
   "source": [
    "from tensorflow.keras.utils import to_categorical\n",
    "y_series = pd.Series(y).map({classes[0]:0, classes[1]:1,classes[2]:2})\n",
    "y = to_categorical(y_series)"
   ]
  },
  {
   "cell_type": "code",
   "execution_count": 10,
   "metadata": {},
   "outputs": [
    {
     "data": {
      "text/plain": [
       "(5403, 3)"
      ]
     },
     "execution_count": 10,
     "metadata": {},
     "output_type": "execute_result"
    }
   ],
   "source": [
    "y.shape"
   ]
  },
  {
   "cell_type": "code",
   "execution_count": 11,
   "metadata": {},
   "outputs": [],
   "source": [
    "# base_model = keras.applications.vgg16.VGG16(weights='imagenet',input_shape=(224,224,3),include_top=False)\n",
    "#vgg16 model did not help much"
   ]
  },
  {
   "cell_type": "code",
   "execution_count": 12,
   "metadata": {},
   "outputs": [],
   "source": [
    "# Early stopping:\n",
    "early_stop = keras.callbacks.EarlyStopping(\n",
    "    monitor='val_loss', #the thing we are monitoring\n",
    "    min_delta=0.0005, #the minimum change in the quantity that we want for the model to train for another epoch\n",
    "    patience=3, #number of epochs with no improvement needed for the model to stop\n",
    "    verbose=1, #0 is silent, 1 means a message is displayed when something happens\n",
    "    mode='auto'\n",
    ")\n",
    "\n"
   ]
  },
  {
   "cell_type": "code",
   "execution_count": 14,
   "metadata": {},
   "outputs": [],
   "source": [
    "from tensorflow.keras.layers import Conv2D, Dense, MaxPooling2D, Activation, Flatten, Dropout, BatchNormalization"
   ]
  },
  {
   "cell_type": "code",
   "execution_count": 15,
   "metadata": {},
   "outputs": [],
   "source": [
    "# Clear session and build above model:\n",
    "K.clear_session()\n",
    "new_model = keras.models.Sequential([\n",
    "    Conv2D(filters = 8, kernel_size = (6,6),padding = 'valid',activation = 'relu' ,input_shape = (224,224,3)),\n",
    "    Conv2D(filters = 3, kernel_size = (5,5), padding = 'valid', activation = 'relu'),\n",
    "    MaxPooling2D(pool_size = (5,5),padding = 'valid'),\n",
    "\n",
    "  \n",
    "    Flatten(),\n",
    "    #Fully connected layers:\n",
    "        \n",
    "    Dropout(0.005),\n",
    "    # fc1 fully connected layer\n",
    "    Dense(units=60, activation='relu', name='fc1'),\n",
    "    \n",
    "    # fc2 fully connected layer\n",
    "    #Dense(units=40, activation='relu', name='fc2'),\n",
    "    #Dense(units=30, activation='relu', name='fc3'),\n",
    "    # _Dropout(0.2), - optional\n",
    "    \n",
    "    Dense(units=3, activation=keras.activations.softmax, name='output')   \n",
    "])"
   ]
  },
  {
   "cell_type": "code",
   "execution_count": 16,
   "metadata": {},
   "outputs": [
    {
     "name": "stdout",
     "output_type": "stream",
     "text": [
      "Model: \"sequential\"\n",
      "_________________________________________________________________\n",
      " Layer (type)                Output Shape              Param #   \n",
      "=================================================================\n",
      " conv2d (Conv2D)             (None, 219, 219, 8)       872       \n",
      "                                                                 \n",
      " conv2d_1 (Conv2D)           (None, 215, 215, 3)       603       \n",
      "                                                                 \n",
      " max_pooling2d (MaxPooling2D  (None, 43, 43, 3)        0         \n",
      " )                                                               \n",
      "                                                                 \n",
      " flatten (Flatten)           (None, 5547)              0         \n",
      "                                                                 \n",
      " dropout (Dropout)           (None, 5547)              0         \n",
      "                                                                 \n",
      " fc1 (Dense)                 (None, 60)                332880    \n",
      "                                                                 \n",
      " output (Dense)              (None, 3)                 183       \n",
      "                                                                 \n",
      "=================================================================\n",
      "Total params: 334,538\n",
      "Trainable params: 334,538\n",
      "Non-trainable params: 0\n",
      "_________________________________________________________________\n",
      "Epoch 1/100\n"
     ]
    },
    {
     "name": "stderr",
     "output_type": "stream",
     "text": [
      "2023-06-07 21:42:02.110965: W tensorflow/tsl/framework/cpu_allocator_impl.cc:83] Allocation of 2602328064 exceeds 10% of free system memory.\n",
      "2023-06-07 21:42:04.313957: W tensorflow/tsl/framework/cpu_allocator_impl.cc:83] Allocation of 767376000 exceeds 10% of free system memory.\n",
      "2023-06-07 21:42:07.785760: W tensorflow/tsl/framework/cpu_allocator_impl.cc:83] Allocation of 767376000 exceeds 10% of free system memory.\n"
     ]
    },
    {
     "name": "stdout",
     "output_type": "stream",
     "text": [
      "1/9 [==>...........................] - ETA: 2:34 - loss: 11.1113 - accuracy: 0.2120"
     ]
    },
    {
     "name": "stderr",
     "output_type": "stream",
     "text": [
      "2023-06-07 21:42:22.722880: W tensorflow/tsl/framework/cpu_allocator_impl.cc:83] Allocation of 767376000 exceeds 10% of free system memory.\n",
      "2023-06-07 21:42:25.730113: W tensorflow/tsl/framework/cpu_allocator_impl.cc:83] Allocation of 767376000 exceeds 10% of free system memory.\n"
     ]
    },
    {
     "name": "stdout",
     "output_type": "stream",
     "text": [
      "9/9 [==============================] - 166s 18s/step - loss: 6.3391 - accuracy: 0.3510 - val_loss: 1.0282 - val_accuracy: 0.6022\n",
      "Epoch 2/100\n",
      "9/9 [==============================] - 170s 19s/step - loss: 0.9364 - accuracy: 0.6481 - val_loss: 0.8557 - val_accuracy: 0.6827\n",
      "Epoch 3/100\n",
      "9/9 [==============================] - 172s 19s/step - loss: 0.8035 - accuracy: 0.6326 - val_loss: 0.7834 - val_accuracy: 0.5800\n",
      "Epoch 4/100\n",
      "9/9 [==============================] - 175s 19s/step - loss: 0.7484 - accuracy: 0.6416 - val_loss: 0.7249 - val_accuracy: 0.7401\n",
      "Epoch 5/100\n",
      "9/9 [==============================] - 177s 20s/step - loss: 0.6576 - accuracy: 0.7658 - val_loss: 0.6092 - val_accuracy: 0.7438\n",
      "Epoch 6/100\n",
      "9/9 [==============================] - 179s 20s/step - loss: 0.5440 - accuracy: 0.8163 - val_loss: 0.4842 - val_accuracy: 0.8270\n",
      "Epoch 7/100\n",
      "9/9 [==============================] - 179s 20s/step - loss: 0.4125 - accuracy: 0.8744 - val_loss: 0.3832 - val_accuracy: 0.8964\n",
      "Epoch 8/100\n",
      "9/9 [==============================] - 180s 20s/step - loss: 0.3354 - accuracy: 0.9121 - val_loss: 0.3251 - val_accuracy: 0.9056\n",
      "Epoch 9/100\n",
      "9/9 [==============================] - 181s 20s/step - loss: 0.2951 - accuracy: 0.9158 - val_loss: 0.3466 - val_accuracy: 0.8890\n",
      "Epoch 10/100\n",
      "9/9 [==============================] - 181s 20s/step - loss: 0.2721 - accuracy: 0.9179 - val_loss: 0.3005 - val_accuracy: 0.9047\n",
      "Epoch 11/100\n",
      "9/9 [==============================] - 183s 20s/step - loss: 0.2382 - accuracy: 0.9317 - val_loss: 0.2487 - val_accuracy: 0.9260\n",
      "Epoch 12/100\n",
      "9/9 [==============================] - 183s 20s/step - loss: 0.2120 - accuracy: 0.9375 - val_loss: 0.2408 - val_accuracy: 0.9269\n",
      "Epoch 13/100\n",
      "9/9 [==============================] - 184s 20s/step - loss: 0.1929 - accuracy: 0.9431 - val_loss: 0.2162 - val_accuracy: 0.9315\n",
      "Epoch 14/100\n",
      "9/9 [==============================] - 184s 20s/step - loss: 0.1782 - accuracy: 0.9452 - val_loss: 0.2087 - val_accuracy: 0.9371\n",
      "Epoch 15/100\n",
      "9/9 [==============================] - 184s 21s/step - loss: 0.1712 - accuracy: 0.9500 - val_loss: 0.2080 - val_accuracy: 0.9436\n",
      "Epoch 16/100\n",
      "9/9 [==============================] - 184s 20s/step - loss: 0.1661 - accuracy: 0.9486 - val_loss: 0.2249 - val_accuracy: 0.9223\n",
      "Epoch 17/100\n",
      "9/9 [==============================] - 185s 21s/step - loss: 0.1671 - accuracy: 0.9452 - val_loss: 0.1912 - val_accuracy: 0.9436\n",
      "Epoch 18/100\n",
      "9/9 [==============================] - 185s 21s/step - loss: 0.1617 - accuracy: 0.9472 - val_loss: 0.1838 - val_accuracy: 0.9510\n",
      "Epoch 19/100\n",
      "9/9 [==============================] - 185s 21s/step - loss: 0.1506 - accuracy: 0.9542 - val_loss: 0.1820 - val_accuracy: 0.9528\n",
      "Epoch 20/100\n",
      "9/9 [==============================] - 185s 21s/step - loss: 0.1433 - accuracy: 0.9604 - val_loss: 0.1777 - val_accuracy: 0.9565\n",
      "Epoch 21/100\n",
      "9/9 [==============================] - 191s 21s/step - loss: 0.1303 - accuracy: 0.9607 - val_loss: 0.1627 - val_accuracy: 0.9537\n",
      "Epoch 22/100\n",
      "9/9 [==============================] - 189s 21s/step - loss: 0.1232 - accuracy: 0.9623 - val_loss: 0.1695 - val_accuracy: 0.9547\n",
      "Epoch 23/100\n",
      "9/9 [==============================] - 190s 21s/step - loss: 0.1221 - accuracy: 0.9658 - val_loss: 0.1828 - val_accuracy: 0.9473\n",
      "Epoch 24/100\n",
      "9/9 [==============================] - 189s 21s/step - loss: 0.1221 - accuracy: 0.9662 - val_loss: 0.2036 - val_accuracy: 0.9463\n",
      "Epoch 24: early stopping\n"
     ]
    }
   ],
   "source": [
    "new_model.summary()\n",
    "new_model.compile(loss=keras.losses.categorical_crossentropy,\n",
    "                  optimizer=keras.optimizers.Adam(learning_rate=0.001),\n",
    "                 metrics=['accuracy'])\n",
    "\n",
    "history = new_model.fit(X,y,batch_size=500, epochs=100, validation_split=.2,callbacks=[early_stop])"
   ]
  },
  {
   "cell_type": "code",
   "execution_count": 17,
   "metadata": {},
   "outputs": [
    {
     "data": {
      "image/png": "[encoded data removed]",
      "text/plain": [
       "<Figure size 640x480 with 1 Axes>"
      ]
     },
     "metadata": {},
     "output_type": "display_data"
    }
   ],
   "source": [
    "pd.DataFrame(history.history).plot()\n",
    "plt.grid(True)\n",
    "plt.gca().set_ylim(-0.01,1)\n",
    "plt.show()\n",
    "# plt.savefig('conv_frozen_new_fcl.png')"
   ]
  },
  {
   "cell_type": "code",
   "execution_count": 18,
   "metadata": {},
   "outputs": [],
   "source": [
    "new_model.save('denselayer.h5')"
   ]
  }
 ],
 "metadata": {
  "kernelspec": {
   "display_name": "tf",
   "language": "python",
   "name": "python3"
  },
  "language_info": {
   "codemirror_mode": {
    "name": "ipython",
    "version": 3
   },
   "file_extension": ".py",
   "mimetype": "text/x-python",
   "name": "python",
   "nbconvert_exporter": "python",
   "pygments_lexer": "ipython3",
   "version": "3.10.11"
  },
  "orig_nbformat": 4
 },
 "nbformat": 4,
 "nbformat_minor": 2
}
